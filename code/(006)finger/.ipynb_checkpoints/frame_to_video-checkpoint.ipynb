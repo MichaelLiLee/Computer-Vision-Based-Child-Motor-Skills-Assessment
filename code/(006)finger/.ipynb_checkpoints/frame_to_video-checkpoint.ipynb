{
 "cells": [
  {
   "cell_type": "markdown",
   "id": "b762aa75-ece4-43da-a561-5ba0de88b0c8",
   "metadata": {},
   "source": [
    "### reference  \n",
    "[Creating Video from Images using OpenCV-Python](https://theailearner.com/2018/10/15/creating-video-from-images-using-opencv-python/)  \n",
    "[[Python+OpenCV] 儲存寫入video影片到檔案](https://shengyu7697.github.io/python-opencv-save-video/)  "
   ]
  },
  {
   "cell_type": "code",
   "execution_count": 1,
   "id": "da46bce9-e189-4a6a-af6b-991e51cefecc",
   "metadata": {},
   "outputs": [],
   "source": [
    "import cv2\n",
    "import numpy as np\n",
    "import glob\n",
    "import os"
   ]
  },
  {
   "cell_type": "code",
   "execution_count": 2,
   "id": "e7d838a7-4454-4902-a4f4-09f858edb343",
   "metadata": {},
   "outputs": [],
   "source": [
    "#In & Out 路徑設定\n",
    "images_folder_path = 'frame'\n",
    "output_video_apth = 'result_video/sit_up_OK_count.mp4'"
   ]
  },
  {
   "cell_type": "code",
   "execution_count": 3,
   "id": "c71447f5-9e16-4bee-98d6-83406842f78e",
   "metadata": {},
   "outputs": [],
   "source": [
    "#fps設定\n",
    "fps = 30"
   ]
  },
  {
   "cell_type": "code",
   "execution_count": 4,
   "id": "6b58c7b1-12ae-4427-932c-7e9493d6b826",
   "metadata": {},
   "outputs": [],
   "source": [
    "#讀取ImagesFloder中的圖片路徑\n",
    "img_file_path_list = []\n",
    "\n",
    "for filename in os.listdir(images_folder_path):\n",
    "    img_file_path_list.append(images_folder_path+'/'+filename)"
   ]
  },
  {
   "cell_type": "code",
   "execution_count": 5,
   "id": "876de2b2-ecf2-4983-88ca-6c5b7e5629a2",
   "metadata": {},
   "outputs": [],
   "source": [
    "#讀取ImagesFloder中的圖片File\n",
    "img_array = []\n",
    "\n",
    "for img_path in img_file_path_list:\n",
    "    img = cv2.imread(img_path)\n",
    "    height, width, layers = img.shape\n",
    "    size = (width,height)\n",
    "    img_array.append(img)"
   ]
  },
  {
   "cell_type": "code",
   "execution_count": 6,
   "id": "68e9ea32-a112-4970-b11b-87bfe0689110",
   "metadata": {},
   "outputs": [],
   "source": [
    "#Create a VideoWriter object\n",
    "output_video = cv2.VideoWriter(output_video_apth,cv2.VideoWriter_fourcc(*'mp4v'), fps, size)"
   ]
  },
  {
   "cell_type": "code",
   "execution_count": 7,
   "id": "f30ed596-bfde-4462-9dba-29b68efbada9",
   "metadata": {},
   "outputs": [],
   "source": [
    "#Save the images to video file using cv2.VideoWriter().write()\n",
    "for i in range(len(img_array)):\n",
    "    output_video.write(img_array[i])\n",
    "output_video.release()"
   ]
  },
  {
   "cell_type": "code",
   "execution_count": 8,
   "id": "898da0fa-742e-4e19-9f01-32f4a96ed238",
   "metadata": {},
   "outputs": [],
   "source": [
    "#刪除 img_array，釋放記憶體\n",
    "del img_array"
   ]
  }
 ],
 "metadata": {
  "kernelspec": {
   "display_name": "Python 3",
   "language": "python",
   "name": "python3"
  },
  "language_info": {
   "codemirror_mode": {
    "name": "ipython",
    "version": 3
   },
   "file_extension": ".py",
   "mimetype": "text/x-python",
   "name": "python",
   "nbconvert_exporter": "python",
   "pygments_lexer": "ipython3",
   "version": "3.8.12"
  }
 },
 "nbformat": 4,
 "nbformat_minor": 5
}
